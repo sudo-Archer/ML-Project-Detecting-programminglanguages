{
 "cells": [
  {
   "cell_type": "code",
   "execution_count": 1,
   "id": "5f13dfc7",
   "metadata": {},
   "outputs": [],
   "source": [
    "# imprts\n",
    "import numpy as np\n",
    "import re"
   ]
  },
  {
   "cell_type": "markdown",
   "id": "1466d4cd",
   "metadata": {},
   "source": [
    "# Detecing Differnt Prgraimming Languages\n",
    "\n",
    "This project is use to detect different programming languages depending to the text in side a file."
   ]
  },
  {
   "cell_type": "markdown",
   "id": "465f3fda",
   "metadata": {},
   "source": [
    "## Tokenizer"
   ]
  },
  {
   "cell_type": "code",
   "execution_count": 2,
   "id": "66a9acb3",
   "metadata": {},
   "outputs": [],
   "source": [
    "class Tokenizer:\n",
    "    def __init__(self):\n",
    "        self.tokenIDToWords = dict()\n",
    "        self.wordsTotokenID = dict()\n",
    "        self.usedNumberUpto = 0\n",
    "        \n",
    "        \n",
    "    def tokenizing(self, inputString):\n",
    "        \n",
    "        wordList = re.split(r'[`\\-=~!@#$%^&*()_+\\[\\]{};\\'\\\\:\"|<,./<>?\\s]', inputString)\n",
    "\n",
    "        for word in wordList:\n",
    "            if (not word in self.wordsTotokenID):\n",
    "                if (word != None and word != \"\"):\n",
    "                    self.usedNumberUpto += 1\n",
    "                    number = self.usedNumberUpto\n",
    "                    self.wordsTotokenID[word] = number\n",
    "                    self.tokenIDToWords[number] = word\n",
    "                \n",
    "    def getWords(self, number):\n",
    "        try:\n",
    "            return self.tokenIDToWords[number]\n",
    "        except:\n",
    "            return None\n",
    "        \n",
    "    def getTokenID(self, word):\n",
    "        try:\n",
    "            return self.wordsTotokenID[word]\n",
    "        except:\n",
    "            return None\n",
    "        \n",
    "    def getWordTotokenID(self):\n",
    "        return self.wordsTotokenID\n",
    "    \n",
    "    def getTokenIDToWordS(self):\n",
    "        return self.tokenIDToWords\n",
    "    "
   ]
  },
  {
   "cell_type": "code",
   "execution_count": 3,
   "id": "7fd68abb",
   "metadata": {},
   "outputs": [
    {
     "data": {
      "text/plain": [
       "{'I': 1, 'am': 2, 'a': 3, 'dog': 4, 'cat': 5}"
      ]
     },
     "execution_count": 3,
     "metadata": {},
     "output_type": "execute_result"
    }
   ],
   "source": [
    "tokens = Tokenizer()\n",
    "tokens.tokenizing(\"I am a 'dog'\")\n",
    "tokens.tokenizing(\"I am a cat\")\n",
    "tokens.getWordTotokenID()"
   ]
  },
  {
   "cell_type": "code",
   "execution_count": 21,
   "id": "e56bff6d",
   "metadata": {},
   "outputs": [],
   "source": [
    "def readFileToString(filename):\n",
    "        f = open(filename, \"rt\")\n",
    "        return f.read()\n",
    "    \n",
    "class File:\n",
    "    def __init__(self, filePaht):\n",
    "        self.filename = filePaht\n",
    "        self.fileContent = readFileToString(filePaht)\n",
    "        self.fileExtension = filePaht.split(\".\")[-1]\n",
    "        \n",
    "    def getFilename(self):\n",
    "        return self.filename\n",
    "    def getFileContent(self):\n",
    "        return self.fileContent\n",
    "    def getFileExtension(self):\n",
    "        return self.fileExtension\n",
    "    "
   ]
  },
  {
   "cell_type": "code",
   "execution_count": 22,
   "id": "f8fd8bcd",
   "metadata": {},
   "outputs": [
    {
     "name": "stdout",
     "output_type": "stream",
     "text": [
      "this is something that no ones knows\n",
      "HI\n",
      "HI\n",
      "\n",
      "\n"
     ]
    }
   ],
   "source": [
    "test = File(\"test.txt\")\n",
    "print(test.getFileContent())"
   ]
  },
  {
   "cell_type": "code",
   "execution_count": 23,
   "id": "37c14257",
   "metadata": {},
   "outputs": [
    {
     "data": {
      "text/plain": [
       "'txt'"
      ]
     },
     "execution_count": 23,
     "metadata": {},
     "output_type": "execute_result"
    }
   ],
   "source": [
    "test.getFileExtension()"
   ]
  },
  {
   "cell_type": "code",
   "execution_count": 13,
   "id": "44198f2f",
   "metadata": {},
   "outputs": [],
   "source": [
    "tokens.tokenizing(test.getFileContent())"
   ]
  },
  {
   "cell_type": "code",
   "execution_count": 14,
   "id": "0d681022",
   "metadata": {},
   "outputs": [
    {
     "data": {
      "text/plain": [
       "{'I': 1,\n",
       " 'am': 2,\n",
       " 'a': 3,\n",
       " 'dog': 4,\n",
       " 'cat': 5,\n",
       " 'this': 6,\n",
       " 'is': 7,\n",
       " 'something': 8,\n",
       " 'that': 9,\n",
       " 'no': 10,\n",
       " 'ones': 11,\n",
       " 'knows': 12,\n",
       " 'HI': 13}"
      ]
     },
     "execution_count": 14,
     "metadata": {},
     "output_type": "execute_result"
    }
   ],
   "source": [
    "tokens.getWordTotokenID()"
   ]
  },
  {
   "cell_type": "markdown",
   "id": "91cfae71",
   "metadata": {},
   "source": [
    "## Bayes Classyfier"
   ]
  },
  {
   "cell_type": "code",
   "execution_count": null,
   "id": "752e086e",
   "metadata": {
    "collapsed": true
   },
   "outputs": [],
   "source": []
  },
  {
   "cell_type": "markdown",
   "id": "1ee96d6e",
   "metadata": {},
   "source": [
    "## Bayes Multi Classyfier"
   ]
  },
  {
   "cell_type": "code",
   "execution_count": null,
   "id": "6464aced",
   "metadata": {},
   "outputs": [],
   "source": []
  },
  {
   "cell_type": "markdown",
   "id": "18eb14b5",
   "metadata": {},
   "source": [
    "## Identifying keywords for Different programing languages"
   ]
  },
  {
   "cell_type": "code",
   "execution_count": null,
   "id": "04b3be0a",
   "metadata": {},
   "outputs": [],
   "source": []
  }
 ],
 "metadata": {
  "kernelspec": {
   "display_name": "Python 3",
   "language": "python",
   "name": "python3"
  },
  "language_info": {
   "codemirror_mode": {
    "name": "ipython",
    "version": 3
   },
   "file_extension": ".py",
   "mimetype": "text/x-python",
   "name": "python",
   "nbconvert_exporter": "python",
   "pygments_lexer": "ipython3",
   "version": "3.9.6"
  }
 },
 "nbformat": 4,
 "nbformat_minor": 5
}
